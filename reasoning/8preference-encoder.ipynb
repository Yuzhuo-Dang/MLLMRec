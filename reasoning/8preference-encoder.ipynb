{
 "cells": [
  {
   "cell_type": "code",
   "execution_count": null,
   "id": "aa518f57",
   "metadata": {},
   "outputs": [],
   "source": [
    "import os\n",
    "import numpy as np\n",
    "import pandas as pd"
   ]
  },
  {
   "cell_type": "code",
   "execution_count": null,
   "id": "4b6b55e0",
   "metadata": {},
   "outputs": [],
   "source": [
    "dataset = 'baby'\n",
    "os.chdir('../data/{}'.format(dataset))\n",
    "os.getcwd()"
   ]
  },
  {
   "cell_type": "code",
   "execution_count": null,
   "id": "bf9a0783",
   "metadata": {},
   "outputs": [],
   "source": [
    "file_path = './'\n",
    "file_name = 'user_preferences.csv'\n",
    "\n",
    "meta_file = os.path.join(file_path, file_name)\n",
    "\n",
    "df = pd.read_csv(meta_file)\n",
    "df.sort_values(by=['userID'], inplace=True)\n",
    "\n",
    "print('data loaded!')\n",
    "print(f'shape: {df.shape}')\n",
    "\n",
    "df[:3]"
   ]
  },
  {
   "cell_type": "code",
   "execution_count": null,
   "id": "1cb9c98b",
   "metadata": {},
   "outputs": [],
   "source": [
    "df['preference'] = df['preference'].fillna(\" \")"
   ]
  },
  {
   "cell_type": "code",
   "execution_count": null,
   "id": "b6adede5",
   "metadata": {},
   "outputs": [],
   "source": [
    "sentences = []\n",
    "for i, row in df.iterrows():\n",
    "    sen = row['preference']\n",
    "    sentences.append(sen)\n",
    "sentences[:10]"
   ]
  },
  {
   "cell_type": "code",
   "execution_count": null,
   "id": "ae0597e2",
   "metadata": {},
   "outputs": [],
   "source": [
    "indices = [index for index, value in enumerate(sentences) if value == \" \"]\n",
    "len(indices)"
   ]
  },
  {
   "cell_type": "code",
   "execution_count": null,
   "id": "75ef0059",
   "metadata": {},
   "outputs": [],
   "source": [
    "# should `pip install sentence_transformers` first\n",
    "from sentence_transformers import SentenceTransformer\n",
    "\n",
    "\n",
    "model = SentenceTransformer('all-MiniLM-L6-v2') #If there is an error, please download it to your local device.\n",
    "\n",
    "sentence_embeddings = model.encode(sentences)\n",
    "print('user_preferences encoded!')\n",
    "\n",
    "assert sentence_embeddings.shape[0] == df.shape[0]\n",
    "np.save(os.path.join(file_path, 'user_preferences_feat.npy'), sentence_embeddings)\n",
    "print('done!')\n"
   ]
  }
 ],
 "metadata": {
  "kernelspec": {
   "display_name": "MM",
   "language": "python",
   "name": "python3"
  },
  "language_info": {
   "codemirror_mode": {
    "name": "ipython",
    "version": 3
   },
   "file_extension": ".py",
   "mimetype": "text/x-python",
   "name": "python",
   "nbconvert_exporter": "python",
   "pygments_lexer": "ipython3",
   "version": "3.9.20"
  }
 },
 "nbformat": 4,
 "nbformat_minor": 5
}
