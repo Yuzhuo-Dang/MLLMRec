{
 "cells": [
  {
   "cell_type": "code",
   "execution_count": null,
   "id": "30c3c0f0",
   "metadata": {},
   "outputs": [],
   "source": [
    "import os\n",
    "import numpy as np\n",
    "import pandas as pd"
   ]
  },
  {
   "cell_type": "code",
   "execution_count": null,
   "id": "f35a2152",
   "metadata": {},
   "outputs": [],
   "source": [
    "dataset = 'baby'\n",
    "os.chdir('../data/{}'.format(dataset))\n",
    "os.getcwd()"
   ]
  },
  {
   "cell_type": "code",
   "execution_count": null,
   "id": "4d42ee34",
   "metadata": {},
   "outputs": [],
   "source": [
    "i_id, desc_str = 'itemID', 'description'\n",
    "\n",
    "file_path = './'\n",
    "file_name = 'output_image2text.csv'\n",
    "\n",
    "meta_file = os.path.join(file_path, file_name)\n",
    "\n",
    "df = pd.read_csv(meta_file)\n",
    "df.sort_values(by=[i_id], inplace=True)\n",
    "\n",
    "print('data loaded!')\n",
    "print(f'shape: {df.shape}')\n",
    "\n",
    "df[:3]"
   ]
  },
  {
   "cell_type": "code",
   "execution_count": null,
   "id": "6b55b8da",
   "metadata": {},
   "outputs": [],
   "source": [
    "df[desc_str] = df[desc_str].fillna(\" \")\n",
    "df['title'] = df['title'].fillna(\" \")\n",
    "df['brand'] = df['brand'].fillna(\" \")\n",
    "df['categories'] = df['categories'].fillna(\" \")\n",
    "df['image_description'] = df['image_description'].fillna(\" \")\n",
    "\n",
    "sentences = []\n",
    "for i, row in df.iterrows():\n",
    "    sen = row['title'] + ' ' + row['brand'] + ' '\n",
    "    cates = eval(row['categories'])\n",
    "    if isinstance(cates, list):\n",
    "        for c in cates[0]:\n",
    "            sen = sen + c + ' '\n",
    "    sen += row[desc_str]\n",
    "    sen += row['image_description']\n",
    "    sen = sen.replace('\\n', ' ')\n",
    "\n",
    "    sentences.append(sen)\n",
    "\n",
    "indices = [index for index, value in enumerate(df['image_description']) if value == \" \"]\n",
    "len(indices)"
   ]
  },
  {
   "cell_type": "code",
   "execution_count": null,
   "id": "a0c594e3",
   "metadata": {},
   "outputs": [],
   "source": [
    "# should `pip install sentence_transformers` first\n",
    "from sentence_transformers import SentenceTransformer\n",
    "\n",
    "\n",
    "model = SentenceTransformer('all-MiniLM-L6-v2') #If there is an error, please download it to your local device.\n",
    "\n",
    "sentence_embeddings = model.encode(sentences)\n",
    "print('image_text encoded!')\n",
    "\n",
    "assert sentence_embeddings.shape[0] == df.shape[0]\n",
    "np.save(os.path.join(file_path, 'image_text_feat.npy'), sentence_embeddings)\n",
    "print('done!')\n"
   ]
  }
 ],
 "metadata": {
  "kernelspec": {
   "display_name": "MM",
   "language": "python",
   "name": "python3"
  },
  "language_info": {
   "codemirror_mode": {
    "name": "ipython",
    "version": 3
   },
   "file_extension": ".py",
   "mimetype": "text/x-python",
   "name": "python",
   "nbconvert_exporter": "python",
   "pygments_lexer": "ipython3",
   "version": "3.9.20"
  }
 },
 "nbformat": 4,
 "nbformat_minor": 5
}
