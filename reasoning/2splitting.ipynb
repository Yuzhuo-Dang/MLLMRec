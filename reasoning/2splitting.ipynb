{
 "cells": [
  {
   "cell_type": "markdown",
   "metadata": {
    "collapsed": false
   },
   "source": [
    "# 基于rating2inter.ipynb生成的5-core交互图，Train/Validation/Test data splitting\n",
    "- Based on generated interactions, perform data splitting\n"
   ]
  },
  {
   "cell_type": "code",
   "execution_count": null,
   "metadata": {
    "collapsed": true
   },
   "outputs": [],
   "source": [
    "import os, csv\n",
    "import pandas as pd"
   ]
  },
  {
   "cell_type": "code",
   "execution_count": null,
   "metadata": {
    "collapsed": false,
    "pycharm": {
     "is_executing": true,
     "name": "#%%\n"
    }
   },
   "outputs": [],
   "source": [
    "os.chdir('../data/baby')\n",
    "os.getcwd()"
   ]
  },
  {
   "cell_type": "markdown",
   "metadata": {
    "collapsed": false
   },
   "source": [
    "## 直接加载现成的, Load interactions"
   ]
  },
  {
   "cell_type": "code",
   "execution_count": null,
   "metadata": {
    "collapsed": false,
    "pycharm": {
     "name": "#%%\n"
    }
   },
   "outputs": [],
   "source": [
    "rslt_file = 'Baby-indexed.inter'\n",
    "df = pd.read_csv(rslt_file, sep='\\t')\n",
    "print(f'shape: {df.shape}')\n",
    "df[:4]"
   ]
  },
  {
   "cell_type": "code",
   "execution_count": null,
   "metadata": {
    "collapsed": false,
    "pycharm": {
     "name": "#%%\n"
    }
   },
   "outputs": [],
   "source": [
    "import random\n",
    "import numpy as np"
   ]
  },
  {
   "cell_type": "code",
   "execution_count": null,
   "metadata": {
    "collapsed": false,
    "pycharm": {
     "name": "#%%\n"
    }
   },
   "outputs": [],
   "source": [
    "\n",
    "df = df.sample(frac=1).reset_index(drop=True)\n",
    "\n",
    "df.sort_values(by=['userID'], inplace=True)\n",
    "df[:20]"
   ]
  },
  {
   "cell_type": "code",
   "execution_count": null,
   "metadata": {
    "collapsed": false,
    "pycharm": {
     "is_executing": true,
     "name": "#%%\n"
    }
   },
   "outputs": [],
   "source": [
    "uid_field, iid_field = 'userID', 'itemID'\n",
    "\n",
    "uid_freq = df.groupby(uid_field)[iid_field]\n",
    "u_i_dict = {}\n",
    "for u, u_ls in uid_freq:\n",
    "    u_i_dict[u] = list(u_ls)\n",
    "u_i_dict"
   ]
  },
  {
   "cell_type": "code",
   "execution_count": null,
   "metadata": {
    "collapsed": false,
    "pycharm": {
     "name": "#%%\n"
    }
   },
   "outputs": [],
   "source": [
    "new_label = []\n",
    "u_ids_sorted = sorted(u_i_dict.keys())\n",
    "\n",
    "for u in u_ids_sorted:\n",
    "    items = u_i_dict[u]\n",
    "    n_items = len(items)\n",
    "    if n_items < 10:\n",
    "        tmp_ls = [0] * (n_items - 2) + [1] + [2]\n",
    "    else:\n",
    "        val_test_len = int(n_items * 0.2)\n",
    "        train_len = n_items - val_test_len\n",
    "        val_len = val_test_len // 2\n",
    "        test_len = val_test_len - val_len\n",
    "        tmp_ls = [0] * train_len + [1] * val_len + [2] * test_len\n",
    "    new_label.extend(tmp_ls)\n",
    "\n",
    "new_label[:100]"
   ]
  },
  {
   "cell_type": "code",
   "execution_count": null,
   "metadata": {
    "collapsed": false,
    "pycharm": {
     "name": "#%%\n"
    }
   },
   "outputs": [],
   "source": [
    "df['x_label'] = new_label\n",
    "df[:20]"
   ]
  },
  {
   "cell_type": "code",
   "execution_count": null,
   "metadata": {
    "collapsed": false,
    "pycharm": {
     "name": "#%%\n"
    }
   },
   "outputs": [],
   "source": [
    "rslt_file[:-6]"
   ]
  },
  {
   "cell_type": "code",
   "execution_count": null,
   "metadata": {
    "collapsed": false,
    "pycharm": {
     "name": "#%%\n"
    }
   },
   "outputs": [],
   "source": [
    "new_labeled_file = rslt_file[:-6] + '-v4.inter'\n",
    "df.to_csv(os.path.join('./', new_labeled_file), sep='\\t', index=False)\n",
    "print('done!!!')"
   ]
  },
  {
   "cell_type": "markdown",
   "metadata": {
    "collapsed": false
   },
   "source": []
  },
  {
   "cell_type": "markdown",
   "metadata": {
    "collapsed": false
   },
   "source": []
  },
  {
   "cell_type": "markdown",
   "metadata": {
    "collapsed": false,
    "pycharm": {
     "name": "#%% md\n"
    }
   },
   "source": [
    "## Reload"
   ]
  },
  {
   "cell_type": "code",
   "execution_count": null,
   "metadata": {
    "collapsed": false,
    "pycharm": {
     "name": "#%%\n"
    }
   },
   "outputs": [],
   "source": [
    "indexed_df = pd.read_csv(new_labeled_file, sep='\\t')\n",
    "print(f'shape: {indexed_df.shape}')\n",
    "indexed_df[:20]"
   ]
  },
  {
   "cell_type": "code",
   "execution_count": null,
   "metadata": {
    "collapsed": false,
    "pycharm": {
     "name": "#%%\n"
    }
   },
   "outputs": [],
   "source": [
    "u_id_str, i_id_str = 'userID', 'itemID'\n",
    "u_uni = indexed_df[u_id_str].unique()\n",
    "c_uni = indexed_df[i_id_str].unique()\n",
    "\n",
    "print(f'# of unique learners: {len(u_uni)}')\n",
    "print(f'# of unique courses: {len(c_uni)}')\n",
    "\n",
    "print('min/max of unique learners: {0}/{1}'.format(min(u_uni), max(u_uni)))\n",
    "print('min/max of unique courses: {0}/{1}'.format(min(c_uni), max(c_uni)))\n"
   ]
  }
 ],
 "metadata": {
  "kernelspec": {
   "display_name": "MM",
   "language": "python",
   "name": "python3"
  },
  "language_info": {
   "codemirror_mode": {
    "name": "ipython",
    "version": 3
   },
   "file_extension": ".py",
   "mimetype": "text/x-python",
   "name": "python",
   "nbconvert_exporter": "python",
   "pygments_lexer": "ipython3",
   "version": "3.9.20"
  }
 },
 "nbformat": 4,
 "nbformat_minor": 0
}
